{
 "cells": [
  {
   "cell_type": "code",
   "execution_count": 1,
   "id": "skilled-ivory",
   "metadata": {},
   "outputs": [],
   "source": [
    "import json\n",
    "import torch\n",
    "\n",
    "from fairseq.models.bart import BARTModel\n",
    "from utils import read_lines"
   ]
  },
  {
   "cell_type": "code",
   "execution_count": 2,
   "id": "golden-singer",
   "metadata": {},
   "outputs": [],
   "source": [
    "PATH = json.load(open('../path_config.json'))"
   ]
  },
  {
   "cell_type": "code",
   "execution_count": 3,
   "id": "bottom-execution",
   "metadata": {},
   "outputs": [],
   "source": [
    "bart = BARTModel.from_pretrained(PATH['xsum_cmlm_bos'],\n",
    "                                 checkpoint_file='checkpoint_best.pt',\n",
    "                                 data_name_or_path=PATH['data_name_or_path'])\n",
    "\n",
    "bart_ent = BARTModel.from_pretrained(PATH['xsum_cmlm_ent_bos'],\n",
    "                                     checkpoint_file='checkpoint_best.pt',\n",
    "                                     data_name_or_path=PATH['data_name_or_path'])"
   ]
  },
  {
   "cell_type": "markdown",
   "id": "nutritional-supplement",
   "metadata": {},
   "source": [
    "#### Read XSum"
   ]
  },
  {
   "cell_type": "code",
   "execution_count": 4,
   "id": "gentle-muscle",
   "metadata": {},
   "outputs": [
    {
     "name": "stdout",
     "output_type": "stream",
     "text": [
      "11301\n"
     ]
    }
   ],
   "source": [
    "document_path = PATH['xsum_fariseq'] + '/test.source'\n",
    "target_path = PATH['xsum_fariseq'] + '/test.target'\n",
    "xsum_source = read_lines(document_path)\n",
    "xsum_target = read_lines(target_path)\n",
    "print(len(xsum_source))\n",
    "assert len(xsum_source) == len(xsum_target)"
   ]
  },
  {
   "cell_type": "markdown",
   "id": "confidential-bubble",
   "metadata": {},
   "source": [
    "#### Test One Example"
   ]
  },
  {
   "cell_type": "code",
   "execution_count": 5,
   "id": "victorian-warner",
   "metadata": {},
   "outputs": [],
   "source": [
    "import spacy\n",
    "\n",
    "from model import ConditionalSequenceGenerator\n",
    "from utils import prepare_cmlm_ent_inputs, get_cmlm_probability, get_cmlm_ent_probability, prepare_cmlm_inputs, get_probability\n",
    "\n",
    "nlp = spacy.load('en_core_web_sm')"
   ]
  },
  {
   "cell_type": "code",
   "execution_count": 6,
   "id": "nuclear-switch",
   "metadata": {},
   "outputs": [],
   "source": [
    "INDEX = 1110\n",
    "\n",
    "source = xsum_source[INDEX]\n",
    "target = xsum_target[INDEX]"
   ]
  },
  {
   "cell_type": "code",
   "execution_count": 7,
   "id": "tribal-lottery",
   "metadata": {},
   "outputs": [],
   "source": [
    "model_ent = ConditionalSequenceGenerator(bart_ent)"
   ]
  },
  {
   "cell_type": "code",
   "execution_count": 8,
   "id": "synthetic-welcome",
   "metadata": {},
   "outputs": [],
   "source": [
    "model = ConditionalSequenceGenerator(bart)"
   ]
  },
  {
   "cell_type": "markdown",
   "id": "intellectual-canada",
   "metadata": {},
   "source": [
    "#### Test"
   ]
  },
  {
   "cell_type": "code",
   "execution_count": 9,
   "id": "focused-stake",
   "metadata": {},
   "outputs": [
    {
     "name": "stdout",
     "output_type": "stream",
     "text": [
      "200\n"
     ]
    }
   ],
   "source": [
    "data = json.load(open('../data/annotated_with_probability_200.json', 'r'))\n",
    "print(len(data))"
   ]
  },
  {
   "cell_type": "code",
   "execution_count": 10,
   "id": "suffering-phone",
   "metadata": {},
   "outputs": [
    {
     "data": {
      "text/plain": [
       "{'id': 1110,\n",
       " 'pred': 'Chelsea manager Jose Mourinho said the Premier League is \"not the best league in the world\" after his side\\'s 1-0 defeat by West Ham was like \"football from the 19th Century\".',\n",
       " 'ents': [{'start': 0,\n",
       "   'end': 7,\n",
       "   'label': 0,\n",
       "   'type': 'ORG',\n",
       "   'ent': 'Chelsea',\n",
       "   'bart.large': 0.079345703125,\n",
       "   'xsum_cmlm_bos': 0.9365234375,\n",
       "   'bart.large.xsum': 0.76708984375,\n",
       "   'cnndm_cmlm_cedar': 0.92529296875,\n",
       "   'cnndm_cmlm_scratch_cedar_warmup_10000': 0.197265625,\n",
       "   'xsum_cmlm_scratch_cedar_warmup_20000': 0.0281982421875},\n",
       "  {'start': 16,\n",
       "   'end': 20,\n",
       "   'label': 0,\n",
       "   'type': 'PERSON',\n",
       "   'ent': 'Jose',\n",
       "   'bart.large': 0.56982421875,\n",
       "   'xsum_cmlm_bos': 0.939453125,\n",
       "   'bart.large.xsum': 0.93017578125,\n",
       "   'cnndm_cmlm_cedar': 0.94091796875,\n",
       "   'cnndm_cmlm_scratch_cedar_warmup_10000': 0.79833984375,\n",
       "   'xsum_cmlm_scratch_cedar_warmup_20000': 0.96875},\n",
       "  {'start': 21,\n",
       "   'end': 29,\n",
       "   'label': 0,\n",
       "   'type': 'PERSON',\n",
       "   'ent': 'Mourinho',\n",
       "   'bart.large': 0.99755859375,\n",
       "   'xsum_cmlm_bos': 0.9169921875,\n",
       "   'bart.large.xsum': 0.89404296875,\n",
       "   'cnndm_cmlm_cedar': 0.900390625,\n",
       "   'cnndm_cmlm_scratch_cedar_warmup_10000': 0.984375,\n",
       "   'xsum_cmlm_scratch_cedar_warmup_20000': 0.97607421875},\n",
       "  {'start': 109,\n",
       "   'end': 112,\n",
       "   'label': 2,\n",
       "   'type': 'CARDINAL',\n",
       "   'ent': '1-0',\n",
       "   'bart.large': 0.08935546875,\n",
       "   'xsum_cmlm_bos': 0.1595458984375,\n",
       "   'bart.large.xsum': 0.15771484375,\n",
       "   'cnndm_cmlm_cedar': 0.09881591796875,\n",
       "   'cnndm_cmlm_scratch_cedar_warmup_10000': 4.291534423828125e-06,\n",
       "   'xsum_cmlm_scratch_cedar_warmup_20000': 0.00012695789337158203},\n",
       "  {'start': 123,\n",
       "   'end': 131,\n",
       "   'label': 0,\n",
       "   'type': 'LOC',\n",
       "   'ent': 'West Ham',\n",
       "   'bart.large': 0.02203369140625,\n",
       "   'xsum_cmlm_bos': 0.8046875,\n",
       "   'bart.large.xsum': 0.708984375,\n",
       "   'cnndm_cmlm_cedar': 0.83349609375,\n",
       "   'cnndm_cmlm_scratch_cedar_warmup_10000': 0.35400390625,\n",
       "   'xsum_cmlm_scratch_cedar_warmup_20000': 0.8955078125},\n",
       "  {'start': 156,\n",
       "   'end': 172,\n",
       "   'label': 0,\n",
       "   'type': 'DATE',\n",
       "   'ent': 'the 19th Century',\n",
       "   'bart.large': 0.000705718994140625,\n",
       "   'xsum_cmlm_bos': 0.6494140625,\n",
       "   'bart.large.xsum': 0.732421875,\n",
       "   'cnndm_cmlm_cedar': 0.599609375,\n",
       "   'cnndm_cmlm_scratch_cedar_warmup_10000': 5.960464477539062e-07,\n",
       "   'xsum_cmlm_scratch_cedar_warmup_20000': 0.0}],\n",
       " 'hallucinations': ['1-0 defeat by West Ham']}"
      ]
     },
     "execution_count": 10,
     "metadata": {},
     "output_type": "execute_result"
    }
   ],
   "source": [
    "data_index = 87\n",
    "data[data_index]"
   ]
  },
  {
   "cell_type": "code",
   "execution_count": 11,
   "id": "authentic-token",
   "metadata": {},
   "outputs": [],
   "source": [
    "inputs = prepare_cmlm_inputs(source, data[data_index]['pred'], ent_parts=data[data_index]['ents'])"
   ]
  },
  {
   "cell_type": "code",
   "execution_count": 12,
   "id": "yellow-award",
   "metadata": {},
   "outputs": [],
   "source": [
    "def get_cmlm_probability_parallel(generator, src_input, tgt_input, position, entity):\n",
    "    token_probs = model.encode_decode(src_input, tgt_input=tgt_input)\n",
    "    _, target, _ = model.tokenize_target(tgt_input, left_pad=False)\n",
    "    \n",
    "    probs = []\n",
    "    for p, tok, tokp, e in zip(position, target, token_probs, entity):\n",
    "        tok = [model.decode_func(i.unsqueeze(0)) for i in tok]\n",
    "        probs.append(get_probability(p, tok, tokp, e).item())\n",
    "    \n",
    "    return probs"
   ]
  },
  {
   "cell_type": "code",
   "execution_count": 13,
   "id": "peripheral-philippines",
   "metadata": {},
   "outputs": [
    {
     "data": {
      "text/plain": [
       "[0.93701171875,\n",
       " 0.9404296875,\n",
       " 0.91650390625,\n",
       " 0.1610107421875,\n",
       " 0.8046875,\n",
       " 0.64892578125]"
      ]
     },
     "execution_count": 13,
     "metadata": {},
     "output_type": "execute_result"
    }
   ],
   "source": [
    "get_cmlm_probability_parallel(model, inputs[0], inputs[1], inputs[2], inputs[3])"
   ]
  },
  {
   "cell_type": "code",
   "execution_count": 14,
   "id": "preceding-vatican",
   "metadata": {},
   "outputs": [
    {
     "name": "stdout",
     "output_type": "stream",
     "text": [
      "[0.7605633735656738, 0.7426369786262512, 0.02257954515516758, 0.7699408531188965, 0.8309576511383057]\n"
     ]
    }
   ],
   "source": [
    "inputs = prepare_cmlm_ent_inputs(source, target, nlp(target).to_json()['ents'])\n",
    "target_probs = model.encode_decode(inputs[0], inputs[1])\n",
    "print(get_cmlm_ent_probability(model_ent, inputs[0], inputs[1]))"
   ]
  },
  {
   "cell_type": "code",
   "execution_count": 15,
   "id": "secure-skirt",
   "metadata": {},
   "outputs": [
    {
     "ename": "IndexError",
     "evalue": "tuple index out of range",
     "output_type": "error",
     "traceback": [
      "\u001b[0;31m---------------------------------------------------------------------------\u001b[0m",
      "\u001b[0;31mIndexError\u001b[0m                                Traceback (most recent call last)",
      "\u001b[0;32m<ipython-input-15-0b2e6dafa35e>\u001b[0m in \u001b[0;36m<module>\u001b[0;34m\u001b[0m\n\u001b[0;32m----> 1\u001b[0;31m \u001b[0minputs\u001b[0m\u001b[0;34m[\u001b[0m\u001b[0;36m3\u001b[0m\u001b[0;34m]\u001b[0m\u001b[0;34m\u001b[0m\u001b[0;34m\u001b[0m\u001b[0m\n\u001b[0m",
      "\u001b[0;31mIndexError\u001b[0m: tuple index out of range"
     ]
    }
   ],
   "source": [
    "inputs[3]"
   ]
  },
  {
   "cell_type": "code",
   "execution_count": null,
   "id": "tight-pierce",
   "metadata": {},
   "outputs": [],
   "source": [
    "for e in data[data_index]['ents']:\n",
    "    print(e['ent'])\n",
    "    print(e['xsum_cmlm_bos'])\n",
    "    print()"
   ]
  }
 ],
 "metadata": {
  "kernelspec": {
   "display_name": "Python 3",
   "language": "python",
   "name": "python3"
  },
  "language_info": {
   "codemirror_mode": {
    "name": "ipython",
    "version": 3
   },
   "file_extension": ".py",
   "mimetype": "text/x-python",
   "name": "python",
   "nbconvert_exporter": "python",
   "pygments_lexer": "ipython3",
   "version": "3.7.4"
  }
 },
 "nbformat": 4,
 "nbformat_minor": 5
}
