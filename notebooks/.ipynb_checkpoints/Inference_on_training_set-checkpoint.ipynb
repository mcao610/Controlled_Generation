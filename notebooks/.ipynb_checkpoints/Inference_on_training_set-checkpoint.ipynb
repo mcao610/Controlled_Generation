{
 "cells": [
  {
   "cell_type": "code",
   "execution_count": 1,
   "id": "consistent-hobby",
   "metadata": {},
   "outputs": [],
   "source": [
    "import json\n",
    "import torch\n",
    "import torch.nn as nn\n",
    "\n",
    "from tqdm import tqdm\n",
    "from fairseq.models.bart import BARTModel\n",
    "from utils import read_lines"
   ]
  },
  {
   "cell_type": "code",
   "execution_count": 2,
   "id": "knowing-consultation",
   "metadata": {},
   "outputs": [],
   "source": [
    "PATH = json.load(open('../path_config.json'))"
   ]
  },
  {
   "cell_type": "markdown",
   "id": "choice-taylor",
   "metadata": {},
   "source": [
    "#### Load Dataset"
   ]
  },
  {
   "cell_type": "code",
   "execution_count": 3,
   "id": "greek-basketball",
   "metadata": {},
   "outputs": [],
   "source": [
    "bart_xsum = BARTModel.from_pretrained(PATH['bart.large.xsum'],\n",
    "                                      checkpoint_file='model.pt',\n",
    "                                      data_name_or_path=PATH['bart.large.xsum'])"
   ]
  },
  {
   "cell_type": "code",
   "execution_count": 4,
   "id": "tender-commerce",
   "metadata": {},
   "outputs": [
    {
     "name": "stdout",
     "output_type": "stream",
     "text": [
      "- model loaded.\n"
     ]
    }
   ],
   "source": [
    "bart_xsum.cuda()\n",
    "bart_xsum.eval()\n",
    "bart_xsum.half()\n",
    "print('- model loaded.')"
   ]
  },
  {
   "cell_type": "markdown",
   "id": "available-seating",
   "metadata": {},
   "source": [
    "#### Read XSum"
   ]
  },
  {
   "cell_type": "code",
   "execution_count": 5,
   "id": "tracked-guitar",
   "metadata": {},
   "outputs": [
    {
     "name": "stdout",
     "output_type": "stream",
     "text": [
      "203575\n"
     ]
    }
   ],
   "source": [
    "document_path = PATH['xsum_fariseq'] + '/train.source'\n",
    "target_path = PATH['xsum_fariseq'] + '/train.target'\n",
    "xsum_source = read_lines(document_path)\n",
    "xsum_target = read_lines(target_path)\n",
    "print(len(xsum_source))\n",
    "assert len(xsum_source) == len(xsum_target)"
   ]
  },
  {
   "cell_type": "markdown",
   "id": "based-wheat",
   "metadata": {},
   "source": [
    "#### Inference"
   ]
  },
  {
   "cell_type": "code",
   "execution_count": 6,
   "id": "documentary-scotland",
   "metadata": {},
   "outputs": [],
   "source": [
    "outputs = []"
   ]
  },
  {
   "cell_type": "code",
   "execution_count": 7,
   "id": "fantastic-guatemala",
   "metadata": {},
   "outputs": [],
   "source": [
    "data = xsum_source[:100]"
   ]
  },
  {
   "cell_type": "code",
   "execution_count": 8,
   "id": "behavioral-major",
   "metadata": {},
   "outputs": [],
   "source": [
    "class Args:\n",
    "    batch_size = 8\n",
    "    beam_size = 6\n",
    "    lenpen = 1.0\n",
    "    max_len = 60\n",
    "    min_len = 10\n",
    "\n",
    "args = Args()"
   ]
  },
  {
   "cell_type": "code",
   "execution_count": 9,
   "id": "promotional-survival",
   "metadata": {},
   "outputs": [
    {
     "name": "stderr",
     "output_type": "stream",
     "text": [
      "100%|██████████| 99/99 [00:30<00:00,  3.30it/s]\n"
     ]
    }
   ],
   "source": [
    "count = 1\n",
    "slines = [data[0]]\n",
    "for sline in tqdm(data[1:]):\n",
    "    if count % args.batch_size == 0:\n",
    "        with torch.no_grad():\n",
    "            hypotheses_batch = bart_xsum.sample(slines,\n",
    "                                                beam=args.beam_size, lenpen=args.lenpen,\n",
    "                                                max_len_b=args.max_len, min_len=args.min_len,\n",
    "                                                no_repeat_ngram_size=3, verbose=True)\n",
    "        for hypothesis in hypotheses_batch:\n",
    "            outputs.append(hypothesis)\n",
    "        slines = []\n",
    "\n",
    "    slines.append(sline)\n",
    "    count += 1\n",
    "\n",
    "if slines != []:\n",
    "    hypotheses_batch = bart_xsum.sample(slines,\n",
    "                                        beam=args.beam_size, lenpen=args.lenpen,\n",
    "                                        max_len_b=args.max_len, min_len=args.min_len,\n",
    "                                        no_repeat_ngram_size=3)\n",
    "    for hypothesis in hypotheses_batch:\n",
    "        outputs.append(hypothesis)"
   ]
  },
  {
   "cell_type": "code",
   "execution_count": 10,
   "id": "split-feeding",
   "metadata": {},
   "outputs": [
    {
     "data": {
      "text/plain": [
       "'A Royal Navy submarine has returned to Plymouth after 11 months at sea.'"
      ]
     },
     "execution_count": 10,
     "metadata": {},
     "output_type": "execute_result"
    }
   ],
   "source": [
    "outputs[20]"
   ]
  },
  {
   "cell_type": "code",
   "execution_count": 11,
   "id": "identified-choir",
   "metadata": {},
   "outputs": [
    {
     "data": {
      "text/plain": [
       "'A Royal Navy submarine has returned home to Devonport after 11 months at sea.'"
      ]
     },
     "execution_count": 11,
     "metadata": {},
     "output_type": "execute_result"
    }
   ],
   "source": [
    "xsum_target[20]"
   ]
  }
 ],
 "metadata": {
  "kernelspec": {
   "display_name": "Python 3",
   "language": "python",
   "name": "python3"
  },
  "language_info": {
   "codemirror_mode": {
    "name": "ipython",
    "version": 3
   },
   "file_extension": ".py",
   "mimetype": "text/x-python",
   "name": "python",
   "nbconvert_exporter": "python",
   "pygments_lexer": "ipython3",
   "version": "3.7.4"
  }
 },
 "nbformat": 4,
 "nbformat_minor": 5
}
